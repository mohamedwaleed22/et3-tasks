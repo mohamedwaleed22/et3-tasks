{
 "cells": [
  {
   "cell_type": "code",
   "execution_count": 148,
   "id": "ee8d1805",
   "metadata": {},
   "outputs": [
    {
     "name": "stdout",
     "output_type": "stream",
     "text": [
      "please provide the path for the image dataset source folder: D:/et3/problem1/dairies\n",
      "please provide the path for the extracted images output folder: D:/et3/images_dataset\n"
     ]
    },
    {
     "name": "stderr",
     "output_type": "stream",
     "text": [
      "10it [00:00, 257.32it/s]"
     ]
    },
    {
     "name": "stdout",
     "output_type": "stream",
     "text": [
      "Done Processing\n"
     ]
    },
    {
     "name": "stderr",
     "output_type": "stream",
     "text": [
      "\n"
     ]
    }
   ],
   "source": [
    "## Problem 2.1 solution\n",
    "\n",
    "import os\n",
    "import shutil\n",
    "from tqdm import tqdm\n",
    "\n",
    "def copy_all_images(source_folder, destination_folder):\n",
    "    \n",
    "    \"\"\"\n",
    "    args*:\n",
    "    source_folder: The path for the input dataset source folder\n",
    "    destination_folder: The path for the extracted images new folder\n",
    "    \n",
    "    \"\"\"\n",
    "    \n",
    "    # Checking if the input folder is correct\n",
    "    if not os.path.isdir(source_folder):\n",
    "        print(\"Please provide the correct path for the input folder\")\n",
    "    else:\n",
    "\n",
    "        # Create a destination folder if doesn't exist\n",
    "        os.makedirs(destination_folder, exist_ok=True)\n",
    "\n",
    "        # Loop through all the files in source folder using os.walk\n",
    "        for root, dirs, files in tqdm(os.walk(source_folder)):\n",
    "\n",
    "            for file in files:\n",
    "\n",
    "                # Check if the file is an image\n",
    "                if file.lower().endswith((\".jpg\", \".jpeg\", \".png\")):\n",
    "\n",
    "                    # Get the full path of the source file\n",
    "                    source_file = os.path.join(root, file)\n",
    "\n",
    "                    # Copy the file to the destination folder\n",
    "                    shutil.copy(source_file, destination_folder)\n",
    "\n",
    "                    \n",
    "#### example inputs #### \n",
    "\n",
    "# source_folder = D:/et3/problem1/dairies\n",
    "# destination_folder = D:/et3/images_dataset\n",
    "\n",
    "copy_all_images(source_folder=str(input(\"please provide the path for the image dataset source folder: \"))\n",
    "                , destination_folder=str(input(\"please provide the path for the extracted images output folder: \")))\n",
    "print(\"Done Processing\")"
   ]
  },
  {
   "cell_type": "code",
   "execution_count": 149,
   "id": "8efb3feb",
   "metadata": {},
   "outputs": [
    {
     "name": "stdout",
     "output_type": "stream",
     "text": [
      "please provide the path for the image dataset folder: D:\\et3\\images_dataset\n"
     ]
    },
    {
     "name": "stderr",
     "output_type": "stream",
     "text": [
      "100%|██████████| 36/36 [00:00<00:00, 5155.70it/s]"
     ]
    },
    {
     "name": "stdout",
     "output_type": "stream",
     "text": [
      "Done Processing\n"
     ]
    },
    {
     "name": "stderr",
     "output_type": "stream",
     "text": [
      "\n"
     ]
    }
   ],
   "source": [
    "## Problem 2.2 solution\n",
    "\n",
    "import os\n",
    "from tqdm import tqdm\n",
    "\n",
    "def rename_images(image_folder):\n",
    "    \n",
    "    \"\"\"\n",
    "    args*:\n",
    "    image_folder: The path for the input dataset folder\n",
    "    \n",
    "    \"\"\"\n",
    "\n",
    "    # Initializing a counter to add to the images names because the images had similar names  \n",
    "    counter = 1\n",
    "    \n",
    "    # Checking if the input folder is correct\n",
    "    if not os.path.isdir(image_folder):\n",
    "        print(\"Please provide the correct path for the input folder\")\n",
    "    else:\n",
    "\n",
    "        # Looping through each image in the directory \n",
    "        for file in tqdm(os.listdir(image_folder)):\n",
    "            # Get the full path for the images\n",
    "            old_Name = os.path.join(image_folder, file)\n",
    "\n",
    "            # Get the full directory path \n",
    "            dir_Name = os.path.dirname(old_Name)\n",
    "\n",
    "            # Add the counter to each image name while splitting its prefix\n",
    "            modified_name = '{}_'.format(counter) + file.split('-')[-1]\n",
    "\n",
    "            # Get the full path for the files after name modification\n",
    "            new_Name = os.path.join(dirName, modified_name)\n",
    "\n",
    "            # Rename the old images names with the new one \n",
    "            os.rename(old_Name, new_Name)\n",
    "\n",
    "            # Increment the counter to avoid similarity \n",
    "            counter += 1\n",
    "\n",
    "#### example input #### \n",
    "\n",
    "# image_folder = D:\\et3\\images_dataset\n",
    "\n",
    "rename_images(image_folder=str(input(\"please provide the path for the image dataset folder: \")))\n",
    "print(\"Done Processing\")"
   ]
  },
  {
   "cell_type": "code",
   "execution_count": 156,
   "id": "fdcefa05",
   "metadata": {},
   "outputs": [
    {
     "name": "stdout",
     "output_type": "stream",
     "text": [
      "please provide the path for the image dataset folder: D:/et3/images_dataset\n",
      "please provide the path for the result csv file with .csv extension: D:/et3/images_dataset2/output.csv\n",
      "please provide the path for the extracted images output folder: D:/et3/images_dataset2\n"
     ]
    },
    {
     "name": "stderr",
     "output_type": "stream",
     "text": [
      "100%|██████████| 36/36 [00:00<00:00, 534.07it/s]"
     ]
    },
    {
     "name": "stdout",
     "output_type": "stream",
     "text": [
      "Done Processing\n"
     ]
    },
    {
     "name": "stderr",
     "output_type": "stream",
     "text": [
      "\n"
     ]
    }
   ],
   "source": [
    "## Problem 2.3 solution\n",
    "\n",
    "import os\n",
    "from pathlib import Path\n",
    "import csv\n",
    "import datetime\n",
    "from tqdm import tqdm\n",
    "\n",
    "def get_images_info(image_folder, csv_file, destination_folder):\n",
    "\n",
    "    \"\"\"\n",
    "    args*:\n",
    "    image_folder: The path for the input dataset folder\n",
    "    csv_file: The path for the output csv file\n",
    "    destination_folder: The path for the extracted images new folder\n",
    "    \n",
    "    \"\"\"\n",
    "    \n",
    "    # Checking if the input folder is correct\n",
    "    if not os.path.isdir(image_folder):\n",
    "        print(\"Please provide the correct path for the input folder\")\n",
    "    else:\n",
    "\n",
    "        # Checking if the folder exists and if not then make one\n",
    "        os.makedirs(destination_folder, exist_ok=True)\n",
    "\n",
    "        # Checking if the CSV file exists and if not then make one\n",
    "        filepath1 = Path(csv_file)\n",
    "        filepath1.parent.mkdir(parents=True, exist_ok=True)\n",
    "\n",
    "        # Open the CSV file in write mode\n",
    "        with open(filepath1, \"w\", newline=\"\") as file:\n",
    "            writer = csv.writer(file)\n",
    "            writer.writerow([\"Image\", \"Image Size\", \"Image Modification data\"])\n",
    "\n",
    "            # Loop through all the files in the image folder\n",
    "            for file in tqdm(os.listdir(image_folder)):\n",
    "\n",
    "                # Get the full path of the file\n",
    "                file_path = os.path.join(image_folder, file)\n",
    "\n",
    "                # Check if the file is an image\n",
    "                if file.lower().endswith((\".jpg\", \".jpeg\", \".png\")):\n",
    "                    # Get the file size\n",
    "                    file_size = round(os.path.getsize(file_path) * 0.001, 2) \n",
    "                    file_size = str(file_size) + ' MB'\n",
    "\n",
    "                    # Get the date of last image content modification\n",
    "                    modification_time = os.path.getmtime(file_path)\n",
    "                    modification_date = datetime.datetime.fromtimestamp(modification_time)\n",
    "\n",
    "                    # Write the image details to the CSV file\n",
    "                    writer.writerow([file, file_size, modification_date])\n",
    "\n",
    "                    # Copy the extracted files to the destination folder as required in the pdf\n",
    "                    shutil.copy(file_path, destination_folder)\n",
    "\n",
    "\n",
    "#### example inputs ####                \n",
    "\n",
    "# image_folder = D:/et3/images_dataset\n",
    "# csv_file = D:/et3/images_dataset2/output.csv\n",
    "# destination_folder = D:/et3/images_dataset2\n",
    "\n",
    "get_images_info(image_folder=str(input(\"please provide the path for the image dataset folder: \"))\n",
    "                , csv_file=str(input(\"please provide the path for the result csv file with .csv extension: \"))\n",
    "                , destination_folder=str(input(\"please provide the path for the extracted images output folder: \")))\n",
    "print(\"Done Processing\")\n"
   ]
  },
  {
   "cell_type": "code",
   "execution_count": 157,
   "id": "24028303",
   "metadata": {},
   "outputs": [
    {
     "name": "stdout",
     "output_type": "stream",
     "text": [
      "please provide the path for annotation.txt input file: D:/et3/problem2/image1.txt\n",
      "please provide the path for annotation.json output file: D:/et3/problem2/output.json\n"
     ]
    },
    {
     "name": "stderr",
     "output_type": "stream",
     "text": [
      "100%|██████████| 23/23 [00:00<00:00, 23078.71it/s]"
     ]
    },
    {
     "name": "stdout",
     "output_type": "stream",
     "text": [
      "Done Processing\n"
     ]
    },
    {
     "name": "stderr",
     "output_type": "stream",
     "text": [
      "\n"
     ]
    }
   ],
   "source": [
    "## Problem 3 solution\n",
    "\n",
    "import json\n",
    "import os\n",
    "from tqdm import tqdm\n",
    "\n",
    "\n",
    "def convert_yolo_to_json(yolo_annot_file, json_out_file):\n",
    "\n",
    "    \"\"\"\n",
    "    args*:\n",
    "    yolo_annot_file: The path for the input text file\n",
    "    json_out_file: The path for the output json file \n",
    "    \n",
    "    \"\"\"\n",
    "    \n",
    "    if not os.path.isfile(yolo_annot_file):\n",
    "        print(\"Please provide the correct path for the input file\")\n",
    "    else:\n",
    "\n",
    "\n",
    "        # Read the text file\n",
    "        with open(yolo_annot_file, 'r') as file:\n",
    "            lines = file.readlines()\n",
    "\n",
    "        result = []\n",
    "\n",
    "        # specifying image width and height depending on the result of the json file \"w\" and \"h\" that were multiplied by 100\n",
    "        imgWidth, imgHeight = 100, 100\n",
    "\n",
    "        # Process each line in the text file\n",
    "\n",
    "        for line in tqdm(lines):\n",
    "            data = line.strip().split(' ')\n",
    "            obj = data[0]\n",
    "            x = round((float(data[1]) * imgWidth) - (float(data[3]) * imgWidth / 2), 6) \n",
    "            y = round((float(data[2]) * imgHeight) - (float(data[4]) * imgHeight / 2), 6) \n",
    "            width = round(float(data[3]) * imgWidth, 6)\n",
    "            height = round(float(data[4]) * imgHeight, 6)\n",
    "\n",
    "            annotation = {\n",
    "                        \"image_rotation\": 0,\n",
    "                        \"value\": {\n",
    "                            \"x\": x,\n",
    "                            \"y\": y,\n",
    "                            \"width\": width,\n",
    "                            \"height\": height,\n",
    "                            \"rotation\": 0,\n",
    "                            \"rectanglelabels\": [\n",
    "                                \"object\"\n",
    "                            ]\n",
    "                        }\n",
    "                    }\n",
    "\n",
    "\n",
    "\n",
    "            result.append(annotation)\n",
    "\n",
    "        # Create the JSON object\n",
    "        annotations = {\"result\": result}\n",
    "\n",
    "        # providing the data parameter as a default because I did not have the original image\n",
    "        data = {\"image\": \"\\/data\\/upload\\/image1.jpg\"}\n",
    "\n",
    "        json_data = {\"annotations\": [annotations], \"data\": data}\n",
    "\n",
    "        # Write the JSON data to a file specified \n",
    "        with open(json_out_file, 'w') as file:\n",
    "            json.dump(json_data, file, indent=4)\n",
    "\n",
    "        \n",
    "##### example input #####\n",
    "\n",
    "# yolo_annot_file = D:/et3/problem2/image1.txt\n",
    "# json_out_file = D:/et3/problem2/output.json\n",
    "\n",
    "convert_yolo_to_json(yolo_annot_file=str(input(\"please provide the path for annotation.txt input file: \"))\n",
    "                     , json_out_file=str(input(\"please provide the path for annotation.json output file: \")))\n",
    "print(\"Done Processing\")\n"
   ]
  },
  {
   "cell_type": "code",
   "execution_count": null,
   "id": "0cf9e90e",
   "metadata": {},
   "outputs": [],
   "source": []
  }
 ],
 "metadata": {
  "kernelspec": {
   "display_name": "Python 3 (ipykernel)",
   "language": "python",
   "name": "python3"
  },
  "language_info": {
   "codemirror_mode": {
    "name": "ipython",
    "version": 3
   },
   "file_extension": ".py",
   "mimetype": "text/x-python",
   "name": "python",
   "nbconvert_exporter": "python",
   "pygments_lexer": "ipython3",
   "version": "3.9.13"
  }
 },
 "nbformat": 4,
 "nbformat_minor": 5
}
